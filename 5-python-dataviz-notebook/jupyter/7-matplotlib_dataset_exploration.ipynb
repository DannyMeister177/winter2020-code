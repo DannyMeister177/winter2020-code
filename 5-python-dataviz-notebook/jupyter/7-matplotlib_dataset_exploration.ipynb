{
 "cells": [
  {
   "cell_type": "markdown",
   "metadata": {},
   "source": [
    "Lets prepare our notebook by importing the necessary libs and dataset"
   ]
  },
  {
   "cell_type": "code",
   "execution_count": 5,
   "metadata": {},
   "outputs": [],
   "source": [
    "import os\n",
    "\n",
    "import matplotlib.pyplot as plt\n",
    "import pandas as pd\n",
    "\n",
    "df = pd.read_csv('../data/diabetes.data',\n",
    "                 sep='\\s+',\n",
    "                 header=0)"
   ]
  },
  {
   "cell_type": "code",
   "execution_count": 6,
   "metadata": {},
   "outputs": [],
   "source": [
    "os.makedirs('plots/7-matplotlib_dataset_exploration', exist_ok=True)"
   ]
  },
  {
   "cell_type": "markdown",
   "metadata": {},
   "source": [
    "Another useful dataset exploration technique involves comparing multiple columns of the dataset\n",
    "The enumerate functions will generate pairs of indexes elements"
   ]
  },
  {
   "cell_type": "code",
   "execution_count": 7,
   "metadata": {},
   "outputs": [
    {
     "name": "stdout",
     "output_type": "stream",
     "text": [
      "Generating AGE to SEX plot\n",
      "Generating AGE to BMI plot\n",
      "Generating AGE to BP plot\n",
      "Generating AGE to S1 plot\n",
      "Generating AGE to S2 plot\n",
      "Generating AGE to S3 plot\n",
      "Generating AGE to S4 plot\n",
      "Generating AGE to S5 plot\n",
      "Generating AGE to S6 plot\n",
      "Generating AGE to Y plot\n",
      "Generating SEX to BMI plot\n",
      "Generating SEX to BP plot\n",
      "Generating SEX to S1 plot\n",
      "Generating SEX to S2 plot\n",
      "Generating SEX to S3 plot\n",
      "Generating SEX to S4 plot\n",
      "Generating SEX to S5 plot\n",
      "Generating SEX to S6 plot\n",
      "Generating SEX to Y plot\n",
      "Generating BMI to BP plot\n",
      "Generating BMI to S1 plot\n",
      "Generating BMI to S2 plot\n",
      "Generating BMI to S3 plot\n",
      "Generating BMI to S4 plot\n",
      "Generating BMI to S5 plot\n",
      "Generating BMI to S6 plot\n",
      "Generating BMI to Y plot\n",
      "Generating BP to S1 plot\n",
      "Generating BP to S2 plot\n",
      "Generating BP to S3 plot\n",
      "Generating BP to S4 plot\n",
      "Generating BP to S5 plot\n",
      "Generating BP to S6 plot\n",
      "Generating BP to Y plot\n",
      "Generating S1 to S2 plot\n",
      "Generating S1 to S3 plot\n",
      "Generating S1 to S4 plot\n",
      "Generating S1 to S5 plot\n",
      "Generating S1 to S6 plot\n",
      "Generating S1 to Y plot\n",
      "Generating S2 to S3 plot\n",
      "Generating S2 to S4 plot\n",
      "Generating S2 to S5 plot\n",
      "Generating S2 to S6 plot\n",
      "Generating S2 to Y plot\n",
      "Generating S3 to S4 plot\n",
      "Generating S3 to S5 plot\n",
      "Generating S3 to S6 plot\n",
      "Generating S3 to Y plot\n",
      "Generating S4 to S5 plot\n",
      "Generating S4 to S6 plot\n",
      "Generating S4 to Y plot\n",
      "Generating S5 to S6 plot\n",
      "Generating S5 to Y plot\n",
      "Generating S6 to Y plot\n"
     ]
    }
   ],
   "source": [
    "for col1_idx, column1 in enumerate(df.columns):\n",
    "    for col2_idx, column2 in enumerate(df.columns):\n",
    "        if col1_idx < col2_idx:\n",
    "            print(f'Generating {column1} to {column2} plot')\n",
    "            fig, axes = plt.subplots(1, 1, figsize=(5, 5))\n",
    "            axes.scatter(df[column1], df[column2], label=f'{column1} to {column2}', color='green', marker='x')\n",
    "            axes.set_title(f'{column1} to {column2}')\n",
    "            axes.set_xlabel(column1)\n",
    "            axes.set_ylabel(column2)\n",
    "            axes.legend()\n",
    "            plt.savefig(f'plots/7-matplotlib_dataset_exploration/diabetes_{column1}_{column2}_scatter.png', dpi=300)\n",
    "            plt.close(fig)"
   ]
  }
 ],
 "metadata": {
  "kernelspec": {
   "display_name": "Python 3",
   "language": "python",
   "name": "python3"
  },
  "language_info": {
   "codemirror_mode": {
    "name": "ipython",
    "version": 3
   },
   "file_extension": ".py",
   "mimetype": "text/x-python",
   "name": "python",
   "nbconvert_exporter": "python",
   "pygments_lexer": "ipython3",
   "version": "3.7.6"
  }
 },
 "nbformat": 4,
 "nbformat_minor": 4
}
